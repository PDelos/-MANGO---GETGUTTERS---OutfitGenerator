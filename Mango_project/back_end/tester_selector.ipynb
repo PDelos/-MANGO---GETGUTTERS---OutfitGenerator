{
 "cells": [
  {
   "cell_type": "code",
   "execution_count": 36,
   "metadata": {},
   "outputs": [
    {
     "ename": "ModuleNotFoundError",
     "evalue": "No module named 'PIL'",
     "output_type": "error",
     "traceback": [
      "\u001b[1;31m---------------------------------------------------------------------------\u001b[0m",
      "\u001b[1;31mModuleNotFoundError\u001b[0m                       Traceback (most recent call last)",
      "\u001b[1;32mc:\\Users\\delos\\OneDrive\\Documents\\GitHub\\datathon-2023-fashion-compatibility-main\\Mango_project\\back_end\\tester_selector.ipynb Cell 1\u001b[0m line \u001b[0;36m1\n\u001b[1;32m----> <a href='vscode-notebook-cell:/c%3A/Users/delos/OneDrive/Documents/GitHub/datathon-2023-fashion-compatibility-main/Mango_project/back_end/tester_selector.ipynb#W5sZmlsZQ%3D%3D?line=0'>1</a>\u001b[0m \u001b[39mfrom\u001b[39;00m \u001b[39mPIL\u001b[39;00m \u001b[39mimport\u001b[39;00m Image\n\u001b[0;32m      <a href='vscode-notebook-cell:/c%3A/Users/delos/OneDrive/Documents/GitHub/datathon-2023-fashion-compatibility-main/Mango_project/back_end/tester_selector.ipynb#W5sZmlsZQ%3D%3D?line=1'>2</a>\u001b[0m \u001b[39mfrom\u001b[39;00m \u001b[39mrembg\u001b[39;00m \u001b[39mimport\u001b[39;00m new_session, remove\n\u001b[0;32m      <a href='vscode-notebook-cell:/c%3A/Users/delos/OneDrive/Documents/GitHub/datathon-2023-fashion-compatibility-main/Mango_project/back_end/tester_selector.ipynb#W5sZmlsZQ%3D%3D?line=2'>3</a>\u001b[0m \u001b[39mimport\u001b[39;00m \u001b[39mpandas\u001b[39;00m \u001b[39mas\u001b[39;00m \u001b[39mpd\u001b[39;00m\n",
      "\u001b[1;31mModuleNotFoundError\u001b[0m: No module named 'PIL'"
     ]
    }
   ],
   "source": [
    "from PIL import Image\n",
    "from rembg import new_session, remove\n",
    "import pandas as pd\n",
    "import numpy as np\n",
    "from dataclasses import dataclass\n",
    "import pandas as pd\n",
    "\n",
    "Identifier = str\n",
    "Link = str\n",
    "\n"
   ]
  },
  {
   "cell_type": "code",
   "execution_count": 39,
   "metadata": {},
   "outputs": [],
   "source": [
    "class Selector:\n",
    "    _DFoutfit: pd.DataFrame\n",
    "    _DFproduct: pd.DataFrame\n",
    "    \n",
    "    def __init__(self) -> None:\n",
    "        self._DFoutfit = pd.read_csv('../dataset/outfit_data.csv')\n",
    "        self._DFproduct = pd.read_csv('../dataset/product_data.csv')\n",
    "    \n",
    "    @staticmethod\n",
    "    def get_pixel_matrix(image):\n",
    "        pixel_data = list(image.getdata())\n",
    "        width, height = image.size\n",
    "        pixel_matrix = [pixel_data[i * width:(i + 1) * width] for i in range(height)]\n",
    "        return pixel_matrix\n",
    "\n",
    "    def get_all_outfits(self) -> list[str]:\n",
    "        return self.DF_outfits()['cod_outfit'].unique()\n",
    "\n",
    "    def outfits_with(self, prod_id: list[Identifier]) -> list[str]:\n",
    "        return self.DF_outfits() [self.DF_outfits() ['cod_modelo_color'] == prod_id]['cod_outfit'].to_list()\n",
    "    \n",
    "    def outfits_check(self, prod_id: list[Identifier]) -> bool:\n",
    "        return self.DF_outfits() [self.DF_outfits() ['cod_modelo_color'] == prod_id]['cod_outfit'].nunique() == 1\n",
    "    \n",
    "    def get_outfit(self, outf_id: Identifier) -> list[Identifier]:\n",
    "        return self.DF_outfits() [self.DF_outfits() ['cod_outfit'] == outf_id]['cod_modelo_color'].to_list()\n",
    "    \n",
    "    def get_product_info(self, prod_id: Identifier) -> dict:\n",
    "        return self.DF_products().loc[prod_id].to_dict()\n",
    "    \n",
    "    def get_product_image(self, prod_id: Identifier) -> dict:\n",
    "        filename: str = self.get_product_info(prod_id)['des_filename']\n",
    "        return \"../dataset/images/\"+filename.split(\"/\")[-1]\n",
    "    \n",
    "    def show_product(self, prod_id: Identifier) -> None:\n",
    "        jpg_path: str = self.get_product_info(prod_id)['des_filename']\n",
    "        img = Image.open(jpg_path)\n",
    "        img.show()\n",
    "        return\n",
    "    \n",
    "    def show_outfit(self, outf_id: Identifier) -> None:\n",
    "        products: list[Identifier] = self.get_outfit(outf_id)\n",
    "        jpg_paths: list[str] = [self.get_product_image(prod_id) for prod_id in products]\n",
    "        images: list = [Image.open(path) for path in jpg_paths]\n",
    "\n",
    "        # Determine the size of the collage\n",
    "        total_width = sum(img.width for img in images)\n",
    "        max_height = max(img.height for img in images)\n",
    "\n",
    "        # Create a new image with white background\n",
    "        collage = Image.new('RGB', (total_width, max_height), (255, 255, 255))\n",
    "\n",
    "        # Paste each image into the collage\n",
    "        current_width = 0\n",
    "        for img in images:\n",
    "            collage.paste(img, (current_width, 0))\n",
    "            current_width += img.width\n",
    "\n",
    "        # Save the collage\n",
    "        collage.save(\"../dataset/outfits/\"+outf_id)\n",
    "\n",
    "    def get_rgb(self, id):\n",
    "        input_path = self.get_product_image(id)\n",
    "        n = len(input_path)\n",
    "        no_back_path = input_path[:n-4] + \"_nback.png\"\n",
    "        img = None\n",
    "        try:  \n",
    "            img = Image.open(no_back_path)\n",
    "        except FileNotFoundError:\n",
    "            in_file = Image.open(input_path)\n",
    "            output = remove(in_file)\n",
    "            output.save(no_back_path)\n",
    "            img = output\n",
    "        \n",
    "        pixel_matrix = get_pixel_matrix(img)\n",
    "        width,height = img.size\n",
    "        suma = np.array([0,0,0,0], dtype=float)\n",
    "        print(pixel_matrix[0][0])\n",
    "        cnt = 0\n",
    "        for i in range(height):\n",
    "            for j in range(width):\n",
    "                col = np.array(pixel_matrix[i][j])\n",
    "                if np.all(abs(col) != np.array([0,0,0,0])):\n",
    "                    suma = suma + col\n",
    "                    cnt += 1\n",
    "        print(suma/cnt)\n",
    "        return suma/cnt\n",
    "\n",
    "    # GETTERS\n",
    "    \n",
    "    def DF_outfits(self) -> pd.DataFrame:\n",
    "        return self._DFoutfit\n",
    "        \n",
    "    def DF_products(self) -> pd.DataFrame:\n",
    "        return self._DFproduct\n"
   ]
  },
  {
   "cell_type": "code",
   "execution_count": 8,
   "metadata": {},
   "outputs": [],
   "source": []
  },
  {
   "cell_type": "code",
   "execution_count": 43,
   "metadata": {},
   "outputs": [
    {
     "data": {
      "text/plain": [
       "7842"
      ]
     },
     "execution_count": 43,
     "metadata": {},
     "output_type": "execute_result"
    }
   ],
   "source": [
    "selector = Selector()\n",
    "print(len(selector.DF_outfits()['cod_modelo_color'].unique()))\n",
    "print(len(selector.DF_products()['cod_outfit'].unique()))\n"
   ]
  }
 ],
 "metadata": {
  "kernelspec": {
   "display_name": "Python 3",
   "language": "python",
   "name": "python3"
  },
  "language_info": {
   "codemirror_mode": {
    "name": "ipython",
    "version": 3
   },
   "file_extension": ".py",
   "mimetype": "text/x-python",
   "name": "python",
   "nbconvert_exporter": "python",
   "pygments_lexer": "ipython3",
   "version": "3.11.6"
  }
 },
 "nbformat": 4,
 "nbformat_minor": 2
}
